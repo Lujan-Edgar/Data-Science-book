{
 "cells": [
  {
   "cell_type": "markdown",
   "metadata": {},
   "source": [
    "<center>\n",
    "    <img src=\"https://cf-courses-data.s3.us.cloud-object-storage.appdomain.cloud/IBMDeveloperSkillsNetwork-DS0105EN-SkillsNetwork/labs/Module2/images/SN_web_lightmode.png\" width=\"300\" alt=\"cognitiveclass.ai logo\">\n",
    "</center>\n"
   ]
  },
  {
   "cell_type": "markdown",
   "metadata": {},
   "source": [
    "#### Add your code below following the instructions given in the course\n"
   ]
  },
  {
   "cell_type": "markdown",
   "metadata": {},
   "source": [
    "# Data science Tools and ecosystems"
   ]
  },
  {
   "cell_type": "markdown",
   "metadata": {},
   "source": [
    "## In this notebook, Data Science Tools and Ecosystem are summarized."
   ]
  },
  {
   "cell_type": "markdown",
   "metadata": {},
   "source": [
    "*In this notebook I will try to explain and list the several tools presented to me so far. This is not the overall overview of the courses content, but a resume of my own about everything that I understood so far* "
   ]
  },
  {
   "cell_type": "markdown",
   "metadata": {},
   "source": [
    "### In this resume I will try to explain the following topics:\n",
    "- Data tools\n",
    "- IDE'S\n",
    "- Data science languages\n",
    "- What is Python\n",
    "- What is R\n",
    "- Jupyter\n",
    "- Github and its uses"
   ]
  },
  {
   "cell_type": "markdown",
   "metadata": {},
   "source": [
    "## Data tools in Data Science"
   ]
  },
  {
   "cell_type": "markdown",
   "metadata": {},
   "source": [
    "In Data Science the final goal is to retrive insight from large data sets. As to what data science actually is, there isn't a sole definition amongst data scientist, nor there is a specific career that dedicates entirely in the analysis of data. Engineers, mathematicians, software developers or statisticians, all agree with the five big v's in data science.\n",
    "- value\n",
    "- veracity\n",
    "- variety\n",
    "- volume\n",
    "- velocity\n",
    "  \n",
    "Data scientist utilize a vast amount of tools to fulfill their work. Each tool satisfy a specific demand, for example, if you wish to store vasts amount of data in big computing cluster, you might want to use a place to store the data instead of a local storage. Apache hadoop is a data warehouse tool useful for structured, semi-structured and non structured data bases allowing teams to work more efficiently without worrying about losing data due to hardware malfunctioning.\n",
    "\n",
    "As you've seen in the course so far, the work of a data scientist follows the next structure:\n",
    "- Data management\n",
    "- data integration and transormation\n",
    "- data analysis and visualization\n",
    "- model building\n",
    "- model deployment\n",
    "- mode continuos monitoring\n",
    "\n",
    "For each step process of the work you must utilize different tools to facilitate your work as you progress. Here is a list of tools that you might want to utilize during each step of the work."
   ]
  },
  {
   "cell_type": "markdown",
   "metadata": {},
   "source": [
    "## Data management\n",
    "Data management is basically storing the data. Here you are not working directly with the data, not yet. Storing it is the first process. As for your tools, you have:\n",
    "- MySql\n",
    "- Postgres SQL\n",
    "- Cassandra\n",
    "- Apache Couch\n",
    "- MongoDB\n",
    "  My SQL and Postgress SQL work for SQL databases, whils Cassandra, Apache couch and MongoDB work for NON-SQL data bases.\n",
    "\n",
    "  ## Data integration and transformation\n",
    "  Here is where you start cleaning the data. Utilizing different tools we organize and clenase the data before storing it back again in the data base.\n",
    "  As for the tools available, we have:\n",
    " - Apache Spark\n",
    " - Nifi\n",
    " - Kafka\n",
    "\n",
    "## Data analysis and visualization \n",
    "Now with the retrievedc cleansed data we can start giving a proper view of our data. In this part you really start visualizing the hidden messages withing the data. As for your tools, you have the following:\n",
    "- Kibana\n",
    "- Tableau\n",
    "- Apache superset\n",
    "\n",
    "## Model Building\n",
    "with our data we will now start feeding our AI's learning dataset. This is the first step before deploying our work model.\n",
    "- IBM Watson studio\n",
    "- IBM Watson Machine Learning\n",
    "- IBM AutoAI\n",
    "  ## Model deployment and monitoring\n",
    "After the creation of the model, deployment is inevitable. Here your model is going to face several real life scenarios.\n",
    "- Seldon\n",
    "- IBM Watson Openscale\n",
    "- Prometheus\n",
    "IBM Robustness 360 tool offers a handy collection of tools for ensuring that your model doesn't get harmed by users."
   ]
  },
  {
   "cell_type": "markdown",
   "metadata": {},
   "source": [
    "------------------"
   ]
  },
  {
   "cell_type": "markdown",
   "metadata": {},
   "source": [
    "## integrated Development Environments \n",
    "Data scientists require a space to work with their teams. This environments offer the tools needed to share and monitor the teams work with each member of the team. IDE's offer an environment suited for testing, sharing and collaboration, totally equipped with all the tools needed to work. The most popular IDE's surely are GIT, GITHUB, GITLAB.\n",
    "- Libraries usefull for your work\n",
    "- data visualization tools\n",
    "- safe environment to test code and see its behavior IRL\n",
    "In each IDE there is the option to export and import your work.\n"
   ]
  },
  {
   "cell_type": "markdown",
   "metadata": {},
   "source": [
    "------------"
   ]
  },
  {
   "cell_type": "markdown",
   "metadata": {},
   "source": [
    "## Some of the popular languages that Data Scientists use are:\n",
    "As everything in life, it depends on what you want to do. Each programming language follows a different syntax, all have their pros and cons, but, they surely provied different tools for your needs. YoU DON'T need to learn them all, but it is usefull to expand your knowledge in at least 3 or 4 languages to spread your reach withing the programming community. \n",
    "Here there are some of the most popular languages for data science:\n",
    "- Python\n",
    "- R\n",
    "- Scala\n",
    "- JavaScript\n",
    "- C++"
   ]
  },
  {
   "cell_type": "markdown",
   "metadata": {},
   "source": [
    "## Some of the commonly used libraries used by Data Scientists include\n",
    "Libraries are built in functions that offer quick and easy solutions for your little troubles whilst coding. Here are some examples of popular libraries used in data science.\n",
    "- JavaML\n",
    "- Pandas\n",
    "- Numpy\n",
    "- plotly\n",
    "- Sickit-learn\n",
    "- Pytorch"
   ]
  },
  {
   "cell_type": "markdown",
   "metadata": {},
   "source": [
    "## What is Python \n",
    "General multi-purpose language, it is an easy to understand language with over thousands of libraries avaible to facilitate your work.It has become one of the most popular programming languages out there, and is the favorite amongst data scientists.\n",
    "- Uses clear and readable syntax\n",
    "- libraries for all your needs, such as ML, data visualization, scientific tools and many more.\n",
    "- Has a wide community, so it is easy to get into it without much trouble\n",
    "- It is one of the best document languages out there"
   ]
  },
  {
   "cell_type": "markdown",
   "metadata": {},
   "source": [
    "## R\n",
    "- Easy to learn thanks to its syntax\n",
    "- largest data respoitories available for the users\n",
    "- compatible with the most popular programming languages out thee (c++,Python, JavaScript)\n",
    "- over 15000 libraries available."
   ]
  },
  {
   "cell_type": "markdown",
   "metadata": {},
   "source": [
    "## Below are a few examples of evaluating arithmetic expressions in Python"
   ]
  },
  {
   "cell_type": "code",
   "execution_count": 4,
   "metadata": {},
   "outputs": [
    {
     "data": {
      "text/plain": [
       "5"
      ]
     },
     "execution_count": 4,
     "metadata": {},
     "output_type": "execute_result"
    }
   ],
   "source": [
    "2-3*(3-4)"
   ]
  },
  {
   "cell_type": "markdown",
   "metadata": {},
   "source": [
    "## This will convert 200 minutes to hours by diving by 60"
   ]
  },
  {
   "cell_type": "markdown",
   "metadata": {},
   "source": [
    "to convert 200 minutes into hours you must divide the total amount of minutes by 60"
   ]
  },
  {
   "cell_type": "code",
   "execution_count": 5,
   "metadata": {},
   "outputs": [
    {
     "data": {
      "text/plain": [
       "3.3333333333333335"
      ]
     },
     "execution_count": 5,
     "metadata": {},
     "output_type": "execute_result"
    }
   ],
   "source": [
    "200/60"
   ]
  },
  {
   "cell_type": "markdown",
   "metadata": {},
   "source": [
    "# Jupyter\n",
    "- Its name comes from Julia, Python and R\n",
    "- Compatible with popular programming languages such as the JavaScript and C++\n",
    "- Works as a notebook where you can share and do your work in a comfortable space."
   ]
  },
  {
   "cell_type": "markdown",
   "metadata": {},
   "source": [
    "# Github \n",
    "Github is a repository that allows teams to work more efficiently in the latest environment, allowing for each member to test, run and share code with their teammates.\n",
    "- Branching code allows paralel work withing the workspace\n",
    "- Code access management\n",
    "- once the testing is finished, you could either merge or delete the branch\n",
    "- This branch-like work space is useful because it helps teams to test code without interfering with the main code space, minimizing errors."
   ]
  },
  {
   "cell_type": "markdown",
   "metadata": {},
   "source": [
    "# Author\n",
    "## Author: Edgar Alfonso Luján Ascencio"
   ]
  },
  {
   "cell_type": "code",
   "execution_count": null,
   "metadata": {},
   "outputs": [],
   "source": []
  }
 ],
 "metadata": {
  "kernelspec": {
   "display_name": "Python 3 (ipykernel)",
   "language": "python",
   "name": "python3"
  },
  "language_info": {
   "codemirror_mode": {
    "name": "ipython",
    "version": 3
   },
   "file_extension": ".py",
   "mimetype": "text/x-python",
   "name": "python",
   "nbconvert_exporter": "python",
   "pygments_lexer": "ipython3",
   "version": "3.12.8"
  }
 },
 "nbformat": 4,
 "nbformat_minor": 4
}
